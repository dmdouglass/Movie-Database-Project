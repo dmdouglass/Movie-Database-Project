{
 "cells": [
  {
   "cell_type": "code",
   "execution_count": null,
   "metadata": {
    "collapsed": false
   },
   "outputs": [],
   "source": [
    "import tmdbsimple as tmdb\n",
    "import pandas as pd\n",
    "import time"
   ]
  },
  {
   "cell_type": "code",
   "execution_count": null,
   "metadata": {
    "collapsed": false
   },
   "outputs": [],
   "source": [
    "movieDf = pd.read_csv('Data/movies.csv',encoding='iso-8859-1')\n",
    "linksDf = pd.read_csv('Data/links.csv',encoding='iso-8859-1')"
   ]
  },
  {
   "cell_type": "code",
   "execution_count": null,
   "metadata": {
    "collapsed": false
   },
   "outputs": [],
   "source": [
    "movieDf['Movie Title'] =movieDf['Movie Title'].apply(lambda s: s.split('(')[0])\n",
    "movieDf['year'] = 0\n",
    "movieDf['runtime']= \"\"\n",
    "movieDf['revenue']= \"\"\n",
    "movieDf['budget']= \"\""
   ]
  },
  {
   "cell_type": "code",
   "execution_count": null,
   "metadata": {
    "collapsed": true
   },
   "outputs": [],
   "source": [
    "#gets additional movie information from tmdb\n",
    "tmdb.API_KEY = 'b1557d1fb1353262d2c790f5fb214c4c'\n",
    "ID = 1\n",
    "while ID<len(movieDf)+1:\n",
    "    if ID%20 ==0:\n",
    "        time.sleep(4)\n",
    "    if ID%1000==0:\n",
    "        print(1000)\n",
    "    if (linksDf['movieId']==(ID)).any():\n",
    "        tmdbID = linksDf['tmdbId'][linksDf['movieId']==ID]\n",
    "        movie = tmdb.Movies(tmdbID.iloc[0])\n",
    "        try:\n",
    "            s = movie.info()\n",
    "            movieDf.loc[movieDf['MovieId'] == ID,'year'] = s['release_date']\n",
    "            movieDf.loc[movieDf['MovieId'] == ID,'runtime'] = s['runtime']\n",
    "            movieDf.loc[movieDf['MovieId'] == ID,'budget'] = s['budget']\n",
    "            movieDf.loc[movieDf['MovieId'] == ID,'revenue'] = s['revenue']\n",
    "        except:\n",
    "            print('got an error')\n",
    "    ID = ID+1\n"
   ]
  },
  {
   "cell_type": "code",
   "execution_count": null,
   "metadata": {
    "collapsed": false
   },
   "outputs": [],
   "source": [
    "movieDf"
   ]
  },
  {
   "cell_type": "code",
   "execution_count": null,
   "metadata": {
    "collapsed": true
   },
   "outputs": [],
   "source": [
    "movieDf.to_csv('/Users/Daniel/Documents/Database Manangement 530/Project/Data/moviesTmdb.csv', as_index=False)"
   ]
  },
  {
   "cell_type": "code",
   "execution_count": null,
   "metadata": {
    "collapsed": false
   },
   "outputs": [],
   "source": [
    "#make genre table\n",
    "import numpy as np\n",
    "import pandas as pd\n",
    "movies = pd.read_csv('/Users/Daniel/Documents/Database Management 530/Project/Data/moviesTmdb.csv')\n",
    "genreArray = [];\n",
    "movieDf = movies\n",
    "movieDf.fillna('none',inplace=True)\n",
    "for ID in movieDf['MovieId']:\n",
    "    genre = movieDf.loc[movieDf['MovieId']==ID]['Genre']\n",
    "    if genre.iloc[0] != 'none':\n",
    "        g = genre.iloc[0]\n",
    "        for genre in g.split(\",\"):\n",
    "            genreArray.append([ID,genre])\n",
    "genredf = pd.DataFrame(genreArray)\n",
    "genredf"
   ]
  },
  {
   "cell_type": "code",
   "execution_count": null,
   "metadata": {
    "collapsed": true
   },
   "outputs": [],
   "source": [
    "genredf.to_csv('/Users/Daniel/Documents/Database Manangement 530/Project/Data/genresTable.csv')"
   ]
  },
  {
   "cell_type": "code",
   "execution_count": null,
   "metadata": {
    "collapsed": true
   },
   "outputs": [],
   "source": [
    "import datetime\n",
    "dfRatings = pd.read_csv('/Users/Daniel/Documents/Database Management 530/Project/Data/ratings.csv')\n",
    "dfMovies = pd.read_csv('/Users/Daniel/Documents/Database Management 530/Project/Data/moviesTable.csv')\n",
    "dfUsers =pd.read_csv('/Users/Daniel/Documents/Database Management 530/Project/Data/users.csv')"
   ]
  },
  {
   "cell_type": "code",
   "execution_count": null,
   "metadata": {
    "collapsed": false
   },
   "outputs": [],
   "source": [
    "dfRatings = dfRatings[((dfRatings['2']<len(dfMovies)) & (dfRatings['1'] < len(dfUsers)))==True]\n",
    "dfRatings"
   ]
  },
  {
   "cell_type": "code",
   "execution_count": null,
   "metadata": {
    "collapsed": true
   },
   "outputs": [],
   "source": [
    "dfRatings.to_csv('/Users/Daniel/Documents/Database Management 530/Project/Data/ratings.csv')"
   ]
  }
 ],
 "metadata": {
  "kernelspec": {
   "display_name": "Python 3",
   "language": "python",
   "name": "python3"
  },
  "language_info": {
   "codemirror_mode": {
    "name": "ipython",
    "version": 3
   },
   "file_extension": ".py",
   "mimetype": "text/x-python",
   "name": "python",
   "nbconvert_exporter": "python",
   "pygments_lexer": "ipython3",
   "version": "3.4.3"
  }
 },
 "nbformat": 4,
 "nbformat_minor": 1
}
